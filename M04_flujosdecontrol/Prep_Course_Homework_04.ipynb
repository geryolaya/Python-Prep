{
 "cells": [
  {
   "attachments": {},
   "cell_type": "markdown",
   "metadata": {},
   "source": [
    "## Flujos de Control"
   ]
  },
  {
   "attachments": {},
   "cell_type": "markdown",
   "metadata": {},
   "source": [
    "1) Crear una variable que contenga un elemento del conjunto de números enteros y luego imprimir por pantalla si es mayor o menor a cero"
   ]
  },
  {
   "cell_type": "code",
   "execution_count": 8,
   "metadata": {},
   "outputs": [
    {
     "name": "stdout",
     "output_type": "stream",
     "text": [
      "El numero es negativo\n"
     ]
    }
   ],
   "source": [
    "var1=-7\n",
    "if (var1 < 0):\n",
    "    print (\"El numero es negativo\")\n",
    "elif (var1 > 0):\n",
    "    print(\"El numero es positivo\")\n",
    "else :\n",
    "    print(\"El numero es igual a 0\")"
   ]
  },
  {
   "attachments": {},
   "cell_type": "markdown",
   "metadata": {},
   "source": [
    "2) Crear dos variables y un condicional que informe si son del mismo tipo de dato"
   ]
  },
  {
   "cell_type": "code",
   "execution_count": 17,
   "metadata": {},
   "outputs": [
    {
     "name": "stdout",
     "output_type": "stream",
     "text": [
      "Las variables son de tipo de dato diferente\n"
     ]
    }
   ],
   "source": [
    "a = 3\n",
    "b = 3.5\n",
    "if ( type(a) == type (b)):\n",
    "    print (\"Las variables son del mismo tipo de dato\")\n",
    "else:\n",
    "    print(\"Las variables son de tipo de dato diferente\")\n"
   ]
  },
  {
   "attachments": {},
   "cell_type": "markdown",
   "metadata": {},
   "source": [
    "3) Para los valores enteros del 1 al 20, imprimir por pantalla si es par o impar"
   ]
  },
  {
   "cell_type": "code",
   "execution_count": 27,
   "metadata": {},
   "outputs": [
    {
     "name": "stdout",
     "output_type": "stream",
     "text": [
      "El numero  1 es impar y tiene un solo digito\n",
      "El numero  2 es par y tiene un solo digito\n",
      "El numero  3 es impar y tiene un solo digito\n",
      "El numero  4 es par y tiene un solo digito\n",
      "El numero  5 es impar y tiene un solo digito\n",
      "El numero  6 es par y tiene un solo digito\n",
      "El numero  7 es impar y tiene un solo digito\n",
      "El numero  8 es par y tiene un solo digito\n",
      "El numero  9 es impar y tiene un solo digito\n",
      "El numero  10 es par y tiene dos digitos\n",
      "El numero  11 es impar y tiene dos digitos\n",
      "El numero  12 es par y tiene dos digitos\n",
      "El numero  13 es impar y tiene dos digitos\n",
      "El numero  14 es par y tiene dos digitos\n",
      "El numero  15 es impar y tiene dos digitos\n",
      "El numero  16 es par y tiene dos digitos\n",
      "El numero  17 es impar y tiene dos digitos\n",
      "El numero  18 es par y tiene dos digitos\n",
      "El numero  19 es impar y tiene dos digitos\n",
      "El numero  20 es par y tiene dos digitos\n"
     ]
    }
   ],
   "source": [
    "for va in range (1,21):\n",
    "    if va % 2 == 0:\n",
    "        if (va < 10):\n",
    "            print (\"El numero \", va , \"es par y tiene un solo digito\")\n",
    "        else:\n",
    "            print (\"El numero \", va , \"es par y tiene dos digitos\")\n",
    "        \n",
    "    else:\n",
    "        if (va <10):\n",
    "            print (\"El numero \" , va , \"es impar y tiene un solo digito\")\n",
    "        else:\n",
    "            print (\"El numero \" , va , \"es impar y tiene dos digitos\")\n"
   ]
  },
  {
   "attachments": {},
   "cell_type": "markdown",
   "metadata": {},
   "source": [
    "4) En un ciclo for mostrar para los valores entre 0 y 5 el resultado de elevarlo a la potencia igual a 3"
   ]
  },
  {
   "cell_type": "code",
   "execution_count": 29,
   "metadata": {},
   "outputs": [
    {
     "name": "stdout",
     "output_type": "stream",
     "text": [
      "El resultado de  0 elevado a la 3ra potencias es : 0\n",
      "El resultado de  1 elevado a la 3ra potencias es : 1\n",
      "El resultado de  2 elevado a la 3ra potencias es : 8\n",
      "El resultado de  3 elevado a la 3ra potencias es : 27\n",
      "El resultado de  4 elevado a la 3ra potencias es : 64\n",
      "El resultado de  5 elevado a la 3ra potencias es : 125\n"
     ]
    }
   ],
   "source": [
    "for valor in range (0,6):\n",
    "    print (\"El resultado de \" , str(valor) , \"elevado a la 3ra potencias es :\" , str(valor**3))\n"
   ]
  },
  {
   "attachments": {},
   "cell_type": "markdown",
   "metadata": {},
   "source": [
    "5) Crear una variable que contenga un número entero y realizar un ciclo for la misma cantidad de ciclos"
   ]
  },
  {
   "cell_type": "code",
   "execution_count": 31,
   "metadata": {},
   "outputs": [
    {
     "name": "stdout",
     "output_type": "stream",
     "text": [
      "4\n"
     ]
    }
   ],
   "source": [
    "var=5\n",
    "for ciclo in range(0,var):\n",
    "    pass\n",
    "print (ciclo)"
   ]
  },
  {
   "attachments": {},
   "cell_type": "markdown",
   "metadata": {},
   "source": [
    "6) Utilizar un ciclo while para realizar el factorial de un número guardado en una variable, sólo si la variable contiene un número entero mayor a 0"
   ]
  },
  {
   "cell_type": "code",
   "execution_count": 42,
   "metadata": {},
   "outputs": [
    {
     "name": "stdout",
     "output_type": "stream",
     "text": [
      "el factorial es  40320\n"
     ]
    }
   ],
   "source": [
    "a=8\n",
    "if (type(a) == int):\n",
    "    if (a > 0):\n",
    "        factor = a\n",
    "        while (a > 2):\n",
    "            a= a - 1\n",
    "            factor = factor * a\n",
    "        print ((\"el factorial es \") , factor)\n",
    "    else:\n",
    "        print (\"la variable no es mayor a 0\")\n",
    "\n",
    "else:\n",
    "    print(\"la variable no es un entero\")"
   ]
  },
  {
   "attachments": {},
   "cell_type": "markdown",
   "metadata": {},
   "source": [
    "7) Crear un ciclo for dentro de un ciclo while"
   ]
  },
  {
   "cell_type": "code",
   "execution_count": null,
   "metadata": {},
   "outputs": [],
   "source": []
  },
  {
   "attachments": {},
   "cell_type": "markdown",
   "metadata": {},
   "source": [
    "8) Crear un ciclo while dentro de un ciclo for"
   ]
  },
  {
   "cell_type": "code",
   "execution_count": null,
   "metadata": {},
   "outputs": [],
   "source": []
  },
  {
   "attachments": {},
   "cell_type": "markdown",
   "metadata": {},
   "source": [
    "9) Imprimir los números primos existentes entre 0 y 30"
   ]
  },
  {
   "cell_type": "code",
   "execution_count": null,
   "metadata": {},
   "outputs": [],
   "source": []
  },
  {
   "attachments": {},
   "cell_type": "markdown",
   "metadata": {},
   "source": [
    "10) ¿Se puede mejorar el proceso del punto 9? Utilizar las sentencias break y/ó continue para tal fin"
   ]
  },
  {
   "cell_type": "code",
   "execution_count": null,
   "metadata": {},
   "outputs": [],
   "source": []
  },
  {
   "attachments": {},
   "cell_type": "markdown",
   "metadata": {},
   "source": [
    "11) En los puntos 9 y 10, se diseño un código que encuentra números primos y además se lo optimizó. ¿Es posible saber en qué medida se optimizó?"
   ]
  },
  {
   "cell_type": "code",
   "execution_count": null,
   "metadata": {},
   "outputs": [],
   "source": []
  },
  {
   "attachments": {},
   "cell_type": "markdown",
   "metadata": {},
   "source": [
    "12) Aplicando continue, armar un ciclo while que solo imprima los valores divisibles por 12, dentro del rango de números de 100 a 300"
   ]
  },
  {
   "cell_type": "code",
   "execution_count": null,
   "metadata": {},
   "outputs": [],
   "source": []
  },
  {
   "attachments": {},
   "cell_type": "markdown",
   "metadata": {},
   "source": [
    "13) Utilizar la función **input()** que permite hacer ingresos por teclado, para encontrar números primos y dar la opción al usario de buscar el siguiente"
   ]
  },
  {
   "cell_type": "code",
   "execution_count": null,
   "metadata": {},
   "outputs": [],
   "source": []
  },
  {
   "attachments": {},
   "cell_type": "markdown",
   "metadata": {},
   "source": [
    "14) Crear un ciclo while que encuentre dentro del rango de 100 a 300 el primer número divisible por 3 y además múltiplo de 6"
   ]
  },
  {
   "cell_type": "code",
   "execution_count": null,
   "metadata": {},
   "outputs": [],
   "source": []
  }
 ],
 "metadata": {
  "interpreter": {
   "hash": "c85384e4cb51c8b72350f3a8712cc8351fdc3955e32a27f9b60c6242ab125f01"
  },
  "kernelspec": {
   "display_name": "Python 3 (ipykernel)",
   "language": "python",
   "name": "python3"
  },
  "language_info": {
   "codemirror_mode": {
    "name": "ipython",
    "version": 3
   },
   "file_extension": ".py",
   "mimetype": "text/x-python",
   "name": "python",
   "nbconvert_exporter": "python",
   "pygments_lexer": "ipython3",
   "version": "3.8.10"
  }
 },
 "nbformat": 4,
 "nbformat_minor": 4
}
